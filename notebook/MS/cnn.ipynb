{
 "cells": [
  {
   "cell_type": "code",
   "execution_count": null,
   "metadata": {},
   "outputs": [],
   "source": []
  },
  {
   "attachments": {},
   "cell_type": "markdown",
   "metadata": {},
   "source": [
    "## 畳み込み層\n",
    "\n",
    "カーネルで処理\n",
    "\n",
    "## プーリング層\n",
    "\n",
    "またはダウンサンプリングという。　　\n",
    "2x2のカーネルが動き、カーネル内の最大ピクセル数のみが残される。\n",
    "→1／4のサイズになる\n",
    "\n",
    "## ドロップ層\n",
    "\n",
    "過学習を回避するために、特徴マップをランダムに除去する。\n",
    "\n",
    "## 平坦化層\n",
    "\n",
    "2次元の情報をベクトルに平坦化する\n",
    "\n"
   ]
  }
 ],
 "metadata": {
  "language_info": {
   "name": "python"
  },
  "orig_nbformat": 4
 },
 "nbformat": 4,
 "nbformat_minor": 2
}
