{
 "cells": [
  {
   "attachments": {},
   "cell_type": "markdown",
   "metadata": {},
   "source": [
    "# KDD\n",
    "Knouledge Discovery databased\n",
    "\n",
    "パターンや規則を発見\n",
    "\n",
    "wall street journal92 ビールとオムツ  \n",
    "ビックデータからマイニングする。知識創造へつなげる  \n",
    "\n",
    "# DSのプロセス\n",
    "\n",
    "1. 問題設定\n",
    "2. 収集\n",
    "3. 処理\n",
    "4. 探索、可視化\n",
    "5. 分析予測推論\n",
    "6. 洞察・決定\n",
    "\n",
    "# 見習いレベル\n",
    "- 統計数理基礎の基礎知識（代表値、分散、標準偏差、正規分布、条件付き確率、母集団、相関、ベイズ）\n",
    "- データ分析の基礎知識（予測：回帰、標準誤差、検定：帰無仮説、対立、教師有無\n",
    "- 毎処理の実施\n",
    "- 可視化\n",
    "\n",
    "# 独り立ち\n",
    "- 基礎的なデータ加工を自立的に実施できる\n",
    "- 分析活動を実施できる（重回帰分析、t検定、主成分、過学習、形態素解析）\n",
    "\n"
   ]
  }
 ],
 "metadata": {
  "kernelspec": {
   "display_name": "env",
   "language": "python",
   "name": "python3"
  },
  "language_info": {
   "name": "python",
   "version": "3.8.2"
  },
  "orig_nbformat": 4,
  "vscode": {
   "interpreter": {
    "hash": "f9fb9605667dd016e2c5c36ae849b39769cf3cd08303c1db727681e947e06a3e"
   }
  }
 },
 "nbformat": 4,
 "nbformat_minor": 2
}
