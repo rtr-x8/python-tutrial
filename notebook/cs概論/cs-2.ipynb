{
 "cells": [
  {
   "cell_type": "code",
   "execution_count": 3,
   "metadata": {},
   "outputs": [],
   "source": [
    "import numpy as np\n",
    "import matplotlib as plt"
   ]
  },
  {
   "cell_type": "code",
   "execution_count": 10,
   "metadata": {},
   "outputs": [
    {
     "name": "stdout",
     "output_type": "stream",
     "text": [
      "ndarray\n",
      "[[0.00000000e+000 4.34364973e-311 3.95252517e-323 0.00000000e+000]\n",
      " [0.00000000e+000 0.00000000e+000 0.00000000e+000 0.00000000e+000]\n",
      " [0.00000000e+000 0.00000000e+000 0.00000000e+000 0.00000000e+000]\n",
      " [0.00000000e+000 0.00000000e+000 0.00000000e+000 1.11688058e-308]]\n",
      "sample vector\n",
      "[0. 0. 0. 0.]\n",
      "Dminension:  1\n",
      "Shape:  (4,)\n",
      "Type:  float64\n",
      "sample matrix\n",
      "[[0. 0. 0.]\n",
      " [0. 0. 0.]]\n",
      "Dminension:  2\n",
      "Shape:  (2, 3)\n",
      "Type:  float64\n",
      "sample tensor\n",
      "[[[0. 0. 0.]\n",
      "  [0. 0. 0.]\n",
      "  [0. 0. 0.]]\n",
      "\n",
      " [[0. 0. 0.]\n",
      "  [0. 0. 0.]\n",
      "  [0. 0. 0.]]\n",
      "\n",
      " [[0. 0. 0.]\n",
      "  [0. 0. 0.]\n",
      "  [0. 0. 0.]]]\n",
      "Dminension:  3\n",
      "Shape:  (3, 3, 3)\n",
      "Type:  float64\n"
     ]
    }
   ],
   "source": [
    "print(\"ndarray\")\n",
    "data0 = np.ndarray([4,4])\n",
    "print(data0)\n",
    "\n",
    "print(\"sample vector\")\n",
    "data1 = np.zeros(4)\n",
    "print(data1)\n",
    "print(\"Dminension: \", data1.ndim)\n",
    "print(\"Shape: \", data1.shape)\n",
    "print(\"Type: \", data1.dtype)\n",
    "\n",
    "print(\"sample matrix\")\n",
    "data2 = np.zeros([2,3])\n",
    "print(data2)\n",
    "print(\"Dminension: \", data2.ndim)\n",
    "print(\"Shape: \", data2.shape)\n",
    "print(\"Type: \", data2.dtype)\n",
    "\n",
    "print(\"sample tensor\")\n",
    "data3 = np.zeros([3,3,3])\n",
    "print(data3)\n",
    "print(\"Dminension: \", data3.ndim)\n",
    "print(\"Shape: \", data3.shape)\n",
    "print(\"Type: \", data3.dtype)\n"
   ]
  },
  {
   "cell_type": "code",
   "execution_count": 11,
   "metadata": {},
   "outputs": [
    {
     "data": {
      "text/plain": [
       "array([[[ 0.08257397, -0.57436316,  0.72362925],\n",
       "        [ 0.14728514,  0.88759352,  1.23002754],\n",
       "        [ 0.70829446,  0.16283854, -0.48841835]],\n",
       "\n",
       "       [[ 0.39577825, -0.54856803,  1.1667448 ],\n",
       "        [-0.96057717, -0.64082771,  0.54216157],\n",
       "        [ 0.97042137,  1.15235561, -0.50358886]],\n",
       "\n",
       "       [[-0.76604081,  0.14533023, -1.67988857],\n",
       "        [-1.63081574,  1.01415762, -1.16035817],\n",
       "        [-0.92052691, -0.85964948,  0.26693133]]])"
      ]
     },
     "execution_count": 11,
     "metadata": {},
     "output_type": "execute_result"
    }
   ],
   "source": [
    "np.random.randn(3,3,3)"
   ]
  },
  {
   "cell_type": "code",
   "execution_count": 21,
   "metadata": {},
   "outputs": [
    {
     "name": "stdout",
     "output_type": "stream",
     "text": [
      "[0 1 2 3 4 5 6 7 8 9]\n",
      "<class 'numpy.ndarray'>\n",
      "[0.  0.5 1.  1.5 2.  2.5 3.  3.5 4.  4.5 5.  5.5 6.  6.5 7.  7.5 8.  8.5\n",
      " 9.  9.5]\n"
     ]
    }
   ],
   "source": [
    "print(np.arange(10))\n",
    "print(type(np.arange(10)))\n",
    "print(np.arange(10, step=0.5))\n"
   ]
  },
  {
   "cell_type": "code",
   "execution_count": 32,
   "metadata": {},
   "outputs": [
    {
     "name": "stdout",
     "output_type": "stream",
     "text": [
      "[[1 2 3]\n",
      " [4 5 6]]\n",
      "[[10 20 30]\n",
      " [40 50 60]]\n",
      "[[ 2  4  6]\n",
      " [ 8 10 12]]\n",
      "[[ 9 18 27]\n",
      " [36 45 54]]\n",
      "[[0 1 1]\n",
      " [2 2 3]]\n",
      "[[0.5 1.  1.5]\n",
      " [2.  2.5 3. ]]\n",
      "[[1 0 1]\n",
      " [0 1 0]]\n",
      "[[ 1  4  9]\n",
      " [16 25 36]]\n",
      "[[False  True False]\n",
      " [False False False]]\n",
      "[[False  True  True]\n",
      " [ True  True  True]]\n"
     ]
    }
   ],
   "source": [
    "data = np.array([[1,2,3], [4,5,6]])\n",
    "print(data)\n",
    "print(data*10)\n",
    "print(data+data)\n",
    "print(data*10-data)\n",
    "print(data//2)\n",
    "print(data/2)\n",
    "print(data%2)\n",
    "print(data**2)\n",
    "print(data==2)\n",
    "print(data>=2)"
   ]
  },
  {
   "cell_type": "code",
   "execution_count": 33,
   "metadata": {},
   "outputs": [
    {
     "name": "stdout",
     "output_type": "stream",
     "text": [
      "[[ True False False]\n",
      " [ True False False]]\n"
     ]
    }
   ],
   "source": [
    "d1 = np.array([[1,2,3], [4,5,6]])\n",
    "d2 = np.array([[3,2,1], [6,5,4]])\n",
    "\n",
    "print(d1<d2)"
   ]
  },
  {
   "cell_type": "code",
   "execution_count": 41,
   "metadata": {},
   "outputs": [
    {
     "name": "stdout",
     "output_type": "stream",
     "text": [
      "[[0. 1. 2.]\n",
      " [1. 2. 3.]\n",
      " [2. 3. 4.]\n",
      " [3. 4. 5.]\n",
      " [4. 5. 6.]\n",
      " [5. 6. 7.]\n",
      " [6. 7. 8.]]\n",
      "[ True False False  True  True False False]\n",
      "[[0. 1. 2.]\n",
      " [3. 4. 5.]\n",
      " [4. 5. 6.]]\n"
     ]
    }
   ],
   "source": [
    "names = np.array([\"apple\", \"orange\", \"grape\", \"apple\", \"apple\", \"kiwi\", \"orange\"])\n",
    "data = np.zeros((7, 3))\n",
    "for i in range(7):\n",
    "  for j in range(3):\n",
    "    data[i, j] = i + j\n",
    "\n",
    "print(data)\n",
    "\n",
    "print(names==\"apple\")\n",
    "print(data[names==\"apple\"])"
   ]
  },
  {
   "cell_type": "code",
   "execution_count": 43,
   "metadata": {},
   "outputs": [
    {
     "name": "stdout",
     "output_type": "stream",
     "text": [
      "Sample:\n",
      "[[ -3.53541684   7.64718686   4.43738644   4.50997784]\n",
      " [ -0.05572668  -5.26245073  -1.36639387  -1.55953341]\n",
      " [  2.67356604  -1.8062438    5.83302386 -10.64087794]\n",
      " [  2.68089965   2.05572449  -6.3699201    3.31811754]]\n",
      "[[-3.30413285 -6.98608153  7.46896088  4.70104037]\n",
      " [ 8.98405207 -4.0083819   4.82904836  2.7520748 ]\n",
      " [ 3.79900855 -0.627935    0.68805422 -1.89750415]\n",
      " [-4.25254622 -1.06077695 -2.98342551 -1.10816002]]\n",
      "np.maxumim():\n",
      "[[-3.30413285  7.64718686  7.46896088  4.70104037]\n",
      " [ 8.98405207 -4.0083819   4.82904836  2.7520748 ]\n",
      " [ 3.79900855 -0.627935    5.83302386 -1.89750415]\n",
      " [ 2.68089965  2.05572449 -2.98342551  3.31811754]]\n",
      "np.modf():\n",
      "(array([[-0.53541684,  0.64718686,  0.43738644,  0.50997784],\n",
      "       [-0.05572668, -0.26245073, -0.36639387, -0.55953341],\n",
      "       [ 0.67356604, -0.8062438 ,  0.83302386, -0.64087794],\n",
      "       [ 0.68089965,  0.05572449, -0.3699201 ,  0.31811754]]), array([[ -3.,   7.,   4.,   4.],\n",
      "       [ -0.,  -5.,  -1.,  -1.],\n",
      "       [  2.,  -1.,   5., -10.],\n",
      "       [  2.,   2.,  -6.,   3.]]))\n"
     ]
    }
   ],
   "source": [
    "data1 = np.random.randn(4, 4)*4\n",
    "data2 = np.random.randn(4, 4)*4\n",
    "print(\"Sample:\")\n",
    "print(data1)\n",
    "print(data2)\n",
    "\n",
    "print(\"np.maxumim():\")\n",
    "print(np.maximum(data1, data2))  # 大きい方の要素を取り出す\n",
    "# 一つずつ比較して取り出している\n",
    "\n",
    "print(\"np.modf():\")\n",
    "print(np.modf(data1))  # 整数・小数部に分けたい\n",
    "\n"
   ]
  },
  {
   "cell_type": "code",
   "execution_count": 46,
   "metadata": {},
   "outputs": [
    {
     "data": {
      "image/png": "[encoded data removed]",
      "text/plain": [
       "<Figure size 640x480 with 2 Axes>"
      ]
     },
     "metadata": {},
     "output_type": "display_data"
    }
   ],
   "source": [
    "import matplotlib.pyplot as plt\n",
    "import numpy as np\n",
    "%matplotlib inline\n",
    "xs, ys = np.meshgrid(np.arange(-5, 5, 0.1), np.arange(-5, 5, 0.1))\n",
    "z = np.sqrt(xs ** 2 + ys ** 2)\n",
    "plt.imshow(z, cmap=plt.cm.gray)\n",
    "plt.colorbar()\n",
    "plt.title(\"Image plot $sqrt(x^2 + y^2)$\")\n",
    "plt.show()\n"
   ]
  },
  {
   "cell_type": "code",
   "execution_count": 47,
   "metadata": {},
   "outputs": [
    {
     "data": {
      "image/png": "[encoded data removed]",
      "text/plain": [
       "<Figure size 640x480 with 1 Axes>"
      ]
     },
     "metadata": {},
     "output_type": "display_data"
    }
   ],
   "source": [
    "xs, ys = np.meshgrid(np.arange(-5, 5, 0.1), np.arange(-5, 5, 0.1))\n",
    "z = np.sqrt(xs ** 2 + ys ** 2)\n",
    "plt.imshow(np.where((1.95 < z) & (z < 2.05), 0, 10), cmap=plt.cm.\n",
    "           gray)\n",
    "plt.title(\"Fill grids where $1.95 < sqrt(x^2 + y^2) < 2.05 $\")\n",
    "plt.show()\n"
   ]
  },
  {
   "cell_type": "code",
   "execution_count": 49,
   "metadata": {},
   "outputs": [
    {
     "name": "stdout",
     "output_type": "stream",
     "text": [
      "Data:\n",
      "[[ 1.22447957  1.57916951 -0.46063458  0.57559579]\n",
      " [-1.07207592  0.17136647  1.30923595 -0.23650638]\n",
      " [ 0.45911713  0.76855712  1.6958868  -1.31784036]\n",
      " [ 0.20871187  0.84040381  3.85836589 -0.47918735]\n",
      " [-0.13825664  1.66642959  0.87090339  1.47963607]]\n",
      "Mean(All): 0.650167886008553\n",
      "Total(All): 13.00335772017106\n",
      "Mean(column wise): [0.1363952  1.0051853  1.45475149 0.00433955]\n",
      "Mean(row wise): [0.72965257 0.04300503 0.40143017 1.10707355 0.9696781 ]\n"
     ]
    },
    {
     "data": {
      "image/png": "[encoded data removed]",
      "text/plain": [
       "<Figure size 640x480 with 2 Axes>"
      ]
     },
     "metadata": {},
     "output_type": "display_data"
    }
   ],
   "source": [
    "data = np.random.randn(5, 4)\n",
    "print(\"Data:\")\n",
    "print(data)\n",
    "print(\"Mean(All):\", data.mean())\n",
    "print(\"Total(All):\", data.sum())\n",
    "print(\"Mean(column wise):\", data.mean(axis=0))  # タテ方向の平均をリストで返す\n",
    "print(\"Mean(row wise):\", data.mean(axis=1))  # 横方向の平均\n",
    "plt.imshow(data, cmap=plt.cm.gray)  # 意味はないが可視化してみる\n",
    "plt.colorbar()\n",
    "plt.show()\n"
   ]
  },
  {
   "cell_type": "code",
   "execution_count": null,
   "metadata": {},
   "outputs": [],
   "source": []
  }
 ],
 "metadata": {
  "kernelspec": {
   "display_name": "env",
   "language": "python",
   "name": "python3"
  },
  "language_info": {
   "codemirror_mode": {
    "name": "ipython",
    "version": 3
   },
   "file_extension": ".py",
   "mimetype": "text/x-python",
   "name": "python",
   "nbconvert_exporter": "python",
   "pygments_lexer": "ipython3",
   "version": "3.8.2"
  },
  "orig_nbformat": 4,
  "vscode": {
   "interpreter": {
    "hash": "f9fb9605667dd016e2c5c36ae849b39769cf3cd08303c1db727681e947e06a3e"
   }
  }
 },
 "nbformat": 4,
 "nbformat_minor": 2
}
